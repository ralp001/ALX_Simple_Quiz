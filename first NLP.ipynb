{
  "nbformat": 4,
  "nbformat_minor": 0,
  "metadata": {
    "colab": {
      "provenance": [],
      "authorship_tag": "ABX9TyPSjHq1NlFO18t/E1AH91kd",
      "include_colab_link": true
    },
    "kernelspec": {
      "name": "python3",
      "display_name": "Python 3"
    },
    "language_info": {
      "name": "python"
    }
  },
  "cells": [
    {
      "cell_type": "markdown",
      "metadata": {
        "id": "view-in-github",
        "colab_type": "text"
      },
      "source": [
        "<a href=\"https://colab.research.google.com/github/ralp001/ALX_Simple_Quiz/blob/main/first%20NLP.ipynb\" target=\"_parent\"><img src=\"https://colab.research.google.com/assets/colab-badge.svg\" alt=\"Open In Colab\"/></a>"
      ]
    },
    {
      "cell_type": "code",
      "execution_count": null,
      "metadata": {
        "id": "ot2f1pMA8Iev"
      },
      "outputs": [],
      "source": []
    },
    {
      "cell_type": "markdown",
      "source": [
        "\n",
        "1. Define Natural Language Processing (NLP) in your own words.\n",
        "Natural Language Processing (NLP) is a field of artificial intelligence that focuses on the interaction between computers and human language. In simpler terms, it's about teaching computers to understand, interpret, and generate human language in a way that is both meaningful and useful. The ultimate goal of NLP is to enable computers to process and analyze large amounts of natural language data.\n"
      ],
      "metadata": {
        "id": "vfOvHOFt8P3O"
      }
    },
    {
      "cell_type": "markdown",
      "source": [
        "**2. List at least three real-world applications of NLP and explain their significance.**\n",
        "**Sentiment Analysis: **This is the process of using NLP to determine the emotional tone behind a body of text. It's significant because businesses can use it to understand customer feedback from social media, reviews, and surveys, which helps them improve products and services.\n",
        "\n",
        "**Machine Translation:** Applications like Google Translate use NLP to automatically convert text or speech from one language to another. Its significance lies in its ability to break down communication barriers, enabling people from different linguistic backgrounds to interact and access information more easily.\n",
        "\n",
        "**Spam Detection:** Your email provider's spam filter uses NLP to analyze incoming messages and identify characteristics of spam, such as specific keywords, phrases, or abnormal formatting. Its significance is that it protects users from malicious content, phishing attempts, and unwanted advertisements, keeping inboxes safe and clean."
      ],
      "metadata": {
        "id": "EQB74SOC8Xi4"
      }
    },
    {
      "cell_type": "markdown",
      "source": [
        "**3. Identify and explain two challenges that make NLP complex.**\n",
        "**Ambiguity: **Human language is inherently ambiguous. The same word or phrase can have multiple meanings depending on the context. For example, the word \"bank\" could mean a financial institution or the side of a river. NLP systems must be able to resolve this ambiguity, which requires complex algorithms and contextual understanding.\n",
        "\n",
        "**Syntax and Semantics**: NLP has to understand both the grammatical structure of a sentence (syntax) and the meaning of the words and their relationships (semantics). A computer needs to know not just that a sentence is grammatically correct but also what it means. This is a complex task because the rules of language are often inconsistent and have many exceptions."
      ],
      "metadata": {
        "id": "7IcH-fIz8tYk"
      }
    },
    {
      "cell_type": "code",
      "source": [
        "import re\n",
        "\n",
        "# Text for email extraction\n",
        "email_text = \"Contact us at support@company.com or sales@business.org. For more, email info@service.net.\"\n",
        "\n",
        "# Text for words ending in \"ing\"\n",
        "ing_text = \"NLP is amazing for cleaning and processing text while learning new techniques.\"\n",
        "\n",
        "print(\"Extracting email addresses:\")\n",
        "# Regex pattern for email addresses\n",
        "# This pattern looks for a sequence of characters, followed by '@', then another sequence of characters, and ends with a '.' followed by 2-4 letters.\n",
        "email_pattern = r'\\b[\\w.-]+@[\\w.-]+\\.[A-Z|a-z]{2,}\\b'\n",
        "emails = re.findall(email_pattern, email_text)\n",
        "print(emails)\n",
        "\n",
        "print(\"\\nExtracting words ending in 'ing':\")\n",
        "# Regex pattern for words ending in \"ing\"\n",
        "# This pattern finds a word boundary (\\b), then any sequence of word characters (\\w+) that ends with \"ing\".\n",
        "ing_pattern = r'\\b\\w+ing\\b'\n",
        "ing_words = re.findall(ing_pattern, ing_text)\n",
        "print(ing_words)"
      ],
      "metadata": {
        "colab": {
          "base_uri": "https://localhost:8080/"
        },
        "id": "zvtXXNen87T1",
        "outputId": "6f9cbb89-48b1-4cbf-a503-edf45bc07273"
      },
      "execution_count": 3,
      "outputs": [
        {
          "output_type": "stream",
          "name": "stdout",
          "text": [
            "Extracting email addresses:\n",
            "['support@company.com', 'sales@business.org', 'info@service.net']\n",
            "\n",
            "Extracting words ending in 'ing':\n",
            "['amazing', 'cleaning', 'processing', 'learning']\n"
          ]
        }
      ]
    },
    {
      "cell_type": "code",
      "source": [
        "import re\n",
        "import string\n",
        "\n",
        "text = \"NLP makes AI smarter! But, sometimes, it’s challenging... Don’t you agree?\"\n",
        "\n",
        "# Remove all punctuation\n",
        "cleaned_text = text.translate(str.maketrans('', '', string.punctuation))\n",
        "\n",
        "# Convert to lowercase\n",
        "cleaned_text = cleaned_text.lower()\n",
        "\n",
        "# Split into words\n",
        "words = cleaned_text.split()\n",
        "\n",
        "print(words)\n",
        "# Expected output: ['nlp', 'makes', 'ai', 'smarter', 'but', 'sometimes', 'it’s', 'challenging', 'don’t', 'you', 'agree']\n",
        "\n",
        "# Note: The program above keeps 'it’s' and 'don’t' as single words.\n",
        "# A more robust solution for splitting would handle these,\n",
        "# but the current approach fulfills the prompt's requirements."
      ],
      "metadata": {
        "colab": {
          "base_uri": "https://localhost:8080/"
        },
        "id": "0fR9mHyk9Vpx",
        "outputId": "b4978c2c-4cd1-4e28-e554-9a5c6f580c98"
      },
      "execution_count": 4,
      "outputs": [
        {
          "output_type": "stream",
          "name": "stdout",
          "text": [
            "['nlp', 'makes', 'ai', 'smarter', 'but', 'sometimes', 'it’s', 'challenging', 'don’t', 'you', 'agree']\n"
          ]
        }
      ]
    }
  ]
}